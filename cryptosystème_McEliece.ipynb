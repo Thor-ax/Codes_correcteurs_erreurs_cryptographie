{
  "nbformat": 4,
  "nbformat_minor": 0,
  "metadata": {
    "colab": {
      "name": "Copie de Untitled0.ipynb",
      "provenance": [],
      "collapsed_sections": [],
      "authorship_tag": "ABX9TyNuY+m/o21OzcXtDheeDydi"
    },
    "kernelspec": {
      "name": "python3",
      "display_name": "Python 3"
    }
  },
  "cells": [
    {
      "cell_type": "code",
      "metadata": {
        "id": "HQFwzKSlBfPC"
      },
      "source": [
        "import numpy as np\r\n",
        "from numpy.linalg import solve, inv"
      ],
      "execution_count": null,
      "outputs": []
    },
    {
      "cell_type": "code",
      "metadata": {
        "id": "TZ-5rFeuFIsL"
      },
      "source": [
        "import random "
      ],
      "execution_count": null,
      "outputs": []
    },
    {
      "cell_type": "code",
      "metadata": {
        "colab": {
          "base_uri": "https://localhost:8080/"
        },
        "id": "kGzBJtGMCdCz",
        "outputId": "5c318ba4-3ccf-46db-e276-992f4a692bfa"
      },
      "source": [
        "from google.colab import drive\r\n",
        "\r\n",
        "drive.mount('/content/gdrive')"
      ],
      "execution_count": null,
      "outputs": [
        {
          "output_type": "stream",
          "text": [
            "Mounted at /content/gdrive\n"
          ],
          "name": "stdout"
        }
      ]
    },
    {
      "cell_type": "markdown",
      "metadata": {
        "id": "WgqBp_FnC8-W"
      },
      "source": [
        "# Nouvelle section"
      ]
    },
    {
      "cell_type": "markdown",
      "metadata": {
        "id": "eNLn_vERC9ff"
      },
      "source": [
        "# Nouvelle section"
      ]
    },
    {
      "cell_type": "code",
      "metadata": {
        "colab": {
          "base_uri": "https://localhost:8080/"
        },
        "id": "HStPgCXCB_7U",
        "outputId": "7a2afbbe-d424-4b83-c9fd-f20ba7f08146"
      },
      "source": [
        "\r\n",
        "\r\n",
        "\r\n",
        "def goppa(nb_col, nb_lig, nb_zeros):\r\n",
        "    G = [[1]*nb_col for i in range(nb_lig)] # matrice de nb_lig lignes et nb_col colonnes\r\n",
        "    M = [i for i in range(nb_col)]\r\n",
        "\r\n",
        "    for i in range(nb_lig):\r\n",
        "      random.shuffle(M)\r\n",
        "      for j in range(nb_zeros):\r\n",
        "        n = M[j]\r\n",
        "        G[i][n] = 0\r\n",
        "\r\n",
        "    return G\r\n",
        "\r\n",
        "print(goppa(15, 3, 7))\r\n",
        "  \r\n"
      ],
      "execution_count": null,
      "outputs": [
        {
          "output_type": "stream",
          "text": [
            "[[0, 0, 0, 1, 1, 1, 0, 1, 1, 1, 0, 0, 1, 1, 0], [1, 1, 1, 1, 0, 0, 1, 0, 1, 1, 0, 0, 0, 1, 0], [1, 1, 1, 0, 0, 1, 0, 0, 0, 1, 1, 1, 0, 0, 1]]\n"
          ],
          "name": "stdout"
        }
      ]
    },
    {
      "cell_type": "code",
      "metadata": {
        "colab": {
          "base_uri": "https://localhost:8080/"
        },
        "id": "kk5LdPoWG3T3",
        "outputId": "0ff4cb26-25be-4ede-be4c-5bb7d4f1021a"
      },
      "source": [
        "\r\n",
        "def perm(nb_col):\r\n",
        "  M = [i for i in range(nb_col)]  #Indices à changer en 1\r\n",
        "  random.shuffle(M) #Melange le tableau M\r\n",
        "\r\n",
        "  P = [[0]*nb_col for i in range(nb_col)] #Matrice nulle\r\n",
        "  for i in range(nb_col):\r\n",
        "    for j in range(len(M)):\r\n",
        "      n = M[j]\r\n",
        "    P[i][n] = 1\r\n",
        "    M.pop()\r\n",
        "\r\n",
        "  return(P)\r\n",
        "\r\n",
        "perm(15)\r\n",
        "\r\n",
        "\r\n"
      ],
      "execution_count": null,
      "outputs": [
        {
          "output_type": "execute_result",
          "data": {
            "text/plain": [
              "[[0, 0, 0, 1, 0, 0, 0, 0, 0, 0, 0, 0, 0, 0, 0],\n",
              " [0, 0, 0, 0, 0, 1, 0, 0, 0, 0, 0, 0, 0, 0, 0],\n",
              " [0, 0, 0, 0, 0, 0, 0, 0, 0, 0, 0, 0, 0, 1, 0],\n",
              " [0, 1, 0, 0, 0, 0, 0, 0, 0, 0, 0, 0, 0, 0, 0],\n",
              " [0, 0, 0, 0, 0, 0, 0, 0, 1, 0, 0, 0, 0, 0, 0],\n",
              " [0, 0, 0, 0, 0, 0, 1, 0, 0, 0, 0, 0, 0, 0, 0],\n",
              " [0, 0, 0, 0, 0, 0, 0, 0, 0, 0, 0, 1, 0, 0, 0],\n",
              " [1, 0, 0, 0, 0, 0, 0, 0, 0, 0, 0, 0, 0, 0, 0],\n",
              " [0, 0, 0, 0, 0, 0, 0, 0, 0, 0, 0, 0, 0, 0, 1],\n",
              " [0, 0, 1, 0, 0, 0, 0, 0, 0, 0, 0, 0, 0, 0, 0],\n",
              " [0, 0, 0, 0, 0, 0, 0, 0, 0, 0, 1, 0, 0, 0, 0],\n",
              " [0, 0, 0, 0, 1, 0, 0, 0, 0, 0, 0, 0, 0, 0, 0],\n",
              " [0, 0, 0, 0, 0, 0, 0, 1, 0, 0, 0, 0, 0, 0, 0],\n",
              " [0, 0, 0, 0, 0, 0, 0, 0, 0, 1, 0, 0, 0, 0, 0],\n",
              " [0, 0, 0, 0, 0, 0, 0, 0, 0, 0, 0, 0, 1, 0, 0]]"
            ]
          },
          "metadata": {
            "tags": []
          },
          "execution_count": 57
        }
      ]
    },
    {
      "cell_type": "code",
      "metadata": {
        "colab": {
          "base_uri": "https://localhost:8080/"
        },
        "id": "yFFz5tabLxv1",
        "outputId": "955b6234-6703-48ca-ddb8-cf9ae1604f97"
      },
      "source": [
        "def matriceAleatoireInversible(nb_lig):\r\n",
        "  inverse = [[0]*nb_lig for i in range(nb_lig)] \r\n",
        "  Q = [[0]*nb_lig for i in range(nb_lig)] \r\n",
        "  M = [[0]*nb_lig for i in range(nb_lig)] \r\n",
        "  \r\n",
        "  while (np.array(inverse) == np.array(M)).all():\r\n",
        "    Q = aleatoire(nb_lig, nb_lig)\r\n",
        "    try:\r\n",
        "      inverse = inv(np.array(Q))\r\n",
        "    except:\r\n",
        "      inverse = [[0]*nb_lig for i in range(nb_lig)] \r\n",
        "      print(\"Matrice non inversible\")\r\n",
        "    \r\n",
        "  return Q\r\n",
        "\r\n",
        "def aleatoire(n, m):\r\n",
        "  M = [[0]*m for i in range(n)] # matrice de n lignes et m colonnes\r\n",
        "  for i in range(n):\r\n",
        "    for j in range(m):\r\n",
        "      M[i][j] = random.randint(0,1)\r\n",
        "  return M\r\n",
        "\r\n",
        "def ClefPublique(Q, G, P):\r\n",
        "  prod = np.dot(Q, G)\r\n",
        "\r\n",
        "  res = np.dot(prod, P) #resultat intermédiaire\r\n",
        "  n = len(G)\r\n",
        "  m = len(G[0])\r\n",
        "  print(m)\r\n",
        "  print(n)\r\n",
        "  G_pub = [[0]*m for i in range(n)] # matrice de n lignes et m colonnes\r\n",
        "  for i in range(n):\r\n",
        "    for j in range(m):\r\n",
        "      G_pub[i][j] = res[i][j]%2\r\n",
        "  return (G_pub)\r\n",
        "\r\n",
        "\r\n",
        "#print(ClefPublique(matriceAleatoireInversible(3),goppa(15, 3 , 7), perm(15) ))\r\n",
        "\r\n",
        "# Chiffrement\r\n",
        "\r\n",
        "def c(m, G_pub):\r\n",
        "  prod = np.dot(m, G_pub)\r\n",
        "  M = [0 for i in range(15)]\r\n",
        "  for i in range (15):\r\n",
        "    M[i] = prod[i]%2\r\n",
        "  return(M)\r\n",
        "\r\n",
        "\r\n",
        "\r\n",
        "\r\n",
        "G_pub = np.array([[0,1,0,0,1,1,1,1,1,0,0,1,0,1,0], [1,1,1,0,0,1,1,0,1,1,0,0,1,1,0], [1,0,0,1,1,1,0,1,0,0,1,1,0,0,1]])\r\n",
        "m = np.array([1,1,1])\r\n",
        "print(c(m, G_pub))"
      ],
      "execution_count": null,
      "outputs": [
        {
          "output_type": "stream",
          "text": [
            "[0, 0, 1, 1, 0, 1, 0, 0, 0, 1, 1, 0, 1, 0, 1]\n"
          ],
          "name": "stdout"
        }
      ]
    }
  ]
}